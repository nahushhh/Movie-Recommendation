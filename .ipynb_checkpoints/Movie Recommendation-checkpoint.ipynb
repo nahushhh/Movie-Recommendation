{
 "cells": [
  {
   "cell_type": "markdown",
   "id": "e5ae9167",
   "metadata": {},
   "source": [
    "## To do list\n",
    "\n",
    "**Delete following rows**\n",
    "\n",
    "Running Forever\n",
    "\n",
    "Sharkskin\n",
    "\n",
    "Hum To Mohabbat Karega\n",
    "\n",
    "Me You and Five Bucks\n",
    "\n",
    "Down & Out With The Dolls\n",
    "\n",
    "Crowsnest\n",
    "\n",
    "Sex With Strangers\n",
    "\n",
    "The Helix... Loaded\n",
    "\n",
    "Harrison Montgomery\n",
    "\n",
    "Light from the Darkroom\n",
    "\n",
    "America Is Still the Place\n",
    "\n",
    "The Little Ponderosa Zoo\n",
    "\n",
    "Diamond Ruff\n",
    "\n",
    "Rise of the Entrepreneur: The Search for a Better Way\n",
    "\n",
    "I Want Your Money\n",
    "\n",
    "Fabled\n",
    "\n",
    "Death Calls\n",
    "\n",
    "Amidst the Devil's Wings\n",
    "\n",
    "UnDivided\n",
    "\n",
    "Short Cut to Nirvana: Kumbh Mela\n",
    "\n",
    "The Blood of My Brother: A Story of Death in Iraq\n",
    "\n",
    "21\n"
   ]
  },
  {
   "cell_type": "code",
   "execution_count": 1,
   "id": "486c9d57",
   "metadata": {},
   "outputs": [],
   "source": [
    "import numpy as np\n",
    "import pandas as pd"
   ]
  },
  {
   "cell_type": "code",
   "execution_count": 2,
   "id": "59c72a3d",
   "metadata": {},
   "outputs": [],
   "source": [
    "movies = pd.read_csv('tmdb_5000_movies.csv')\n",
    "credits = pd.read_csv('tmdb_5000_credits.csv')"
   ]
  },
  {
   "cell_type": "code",
   "execution_count": 3,
   "id": "a4f3c681",
   "metadata": {},
   "outputs": [
    {
     "data": {
      "text/html": [
       "<div>\n",
       "<style scoped>\n",
       "    .dataframe tbody tr th:only-of-type {\n",
       "        vertical-align: middle;\n",
       "    }\n",
       "\n",
       "    .dataframe tbody tr th {\n",
       "        vertical-align: top;\n",
       "    }\n",
       "\n",
       "    .dataframe thead th {\n",
       "        text-align: right;\n",
       "    }\n",
       "</style>\n",
       "<table border=\"1\" class=\"dataframe\">\n",
       "  <thead>\n",
       "    <tr style=\"text-align: right;\">\n",
       "      <th></th>\n",
       "      <th>budget</th>\n",
       "      <th>genres</th>\n",
       "      <th>homepage</th>\n",
       "      <th>id</th>\n",
       "      <th>keywords</th>\n",
       "      <th>original_language</th>\n",
       "      <th>original_title</th>\n",
       "      <th>overview</th>\n",
       "      <th>popularity</th>\n",
       "      <th>production_companies</th>\n",
       "      <th>production_countries</th>\n",
       "      <th>release_date</th>\n",
       "      <th>revenue</th>\n",
       "      <th>runtime</th>\n",
       "      <th>spoken_languages</th>\n",
       "      <th>status</th>\n",
       "      <th>tagline</th>\n",
       "      <th>title</th>\n",
       "      <th>vote_average</th>\n",
       "      <th>vote_count</th>\n",
       "    </tr>\n",
       "  </thead>\n",
       "  <tbody>\n",
       "    <tr>\n",
       "      <th>0</th>\n",
       "      <td>237000000</td>\n",
       "      <td>[{\"id\": 28, \"name\": \"Action\"}, {\"id\": 12, \"nam...</td>\n",
       "      <td>http://www.avatarmovie.com/</td>\n",
       "      <td>19995</td>\n",
       "      <td>[{\"id\": 1463, \"name\": \"culture clash\"}, {\"id\":...</td>\n",
       "      <td>en</td>\n",
       "      <td>Avatar</td>\n",
       "      <td>In the 22nd century, a paraplegic Marine is di...</td>\n",
       "      <td>150.437577</td>\n",
       "      <td>[{\"name\": \"Ingenious Film Partners\", \"id\": 289...</td>\n",
       "      <td>[{\"iso_3166_1\": \"US\", \"name\": \"United States o...</td>\n",
       "      <td>2009-12-10</td>\n",
       "      <td>2787965087</td>\n",
       "      <td>162.0</td>\n",
       "      <td>[{\"iso_639_1\": \"en\", \"name\": \"English\"}, {\"iso...</td>\n",
       "      <td>Released</td>\n",
       "      <td>Enter the World of Pandora.</td>\n",
       "      <td>Avatar</td>\n",
       "      <td>7.2</td>\n",
       "      <td>11800</td>\n",
       "    </tr>\n",
       "  </tbody>\n",
       "</table>\n",
       "</div>"
      ],
      "text/plain": [
       "      budget                                             genres  \\\n",
       "0  237000000  [{\"id\": 28, \"name\": \"Action\"}, {\"id\": 12, \"nam...   \n",
       "\n",
       "                      homepage     id  \\\n",
       "0  http://www.avatarmovie.com/  19995   \n",
       "\n",
       "                                            keywords original_language  \\\n",
       "0  [{\"id\": 1463, \"name\": \"culture clash\"}, {\"id\":...                en   \n",
       "\n",
       "  original_title                                           overview  \\\n",
       "0         Avatar  In the 22nd century, a paraplegic Marine is di...   \n",
       "\n",
       "   popularity                               production_companies  \\\n",
       "0  150.437577  [{\"name\": \"Ingenious Film Partners\", \"id\": 289...   \n",
       "\n",
       "                                production_countries release_date     revenue  \\\n",
       "0  [{\"iso_3166_1\": \"US\", \"name\": \"United States o...   2009-12-10  2787965087   \n",
       "\n",
       "   runtime                                   spoken_languages    status  \\\n",
       "0    162.0  [{\"iso_639_1\": \"en\", \"name\": \"English\"}, {\"iso...  Released   \n",
       "\n",
       "                       tagline   title  vote_average  vote_count  \n",
       "0  Enter the World of Pandora.  Avatar           7.2       11800  "
      ]
     },
     "execution_count": 3,
     "metadata": {},
     "output_type": "execute_result"
    }
   ],
   "source": [
    "movies.head(1)"
   ]
  },
  {
   "cell_type": "code",
   "execution_count": 4,
   "id": "f074bf10",
   "metadata": {},
   "outputs": [
    {
     "data": {
      "text/html": [
       "<div>\n",
       "<style scoped>\n",
       "    .dataframe tbody tr th:only-of-type {\n",
       "        vertical-align: middle;\n",
       "    }\n",
       "\n",
       "    .dataframe tbody tr th {\n",
       "        vertical-align: top;\n",
       "    }\n",
       "\n",
       "    .dataframe thead th {\n",
       "        text-align: right;\n",
       "    }\n",
       "</style>\n",
       "<table border=\"1\" class=\"dataframe\">\n",
       "  <thead>\n",
       "    <tr style=\"text-align: right;\">\n",
       "      <th></th>\n",
       "      <th>movie_id</th>\n",
       "      <th>title</th>\n",
       "      <th>cast</th>\n",
       "      <th>crew</th>\n",
       "    </tr>\n",
       "  </thead>\n",
       "  <tbody>\n",
       "    <tr>\n",
       "      <th>0</th>\n",
       "      <td>19995</td>\n",
       "      <td>Avatar</td>\n",
       "      <td>[{\"cast_id\": 242, \"character\": \"Jake Sully\", \"...</td>\n",
       "      <td>[{\"credit_id\": \"52fe48009251416c750aca23\", \"de...</td>\n",
       "    </tr>\n",
       "  </tbody>\n",
       "</table>\n",
       "</div>"
      ],
      "text/plain": [
       "   movie_id   title                                               cast  \\\n",
       "0     19995  Avatar  [{\"cast_id\": 242, \"character\": \"Jake Sully\", \"...   \n",
       "\n",
       "                                                crew  \n",
       "0  [{\"credit_id\": \"52fe48009251416c750aca23\", \"de...  "
      ]
     },
     "execution_count": 4,
     "metadata": {},
     "output_type": "execute_result"
    }
   ],
   "source": [
    "credits.head(1)"
   ]
  },
  {
   "cell_type": "code",
   "execution_count": 5,
   "id": "08682cd0",
   "metadata": {},
   "outputs": [
    {
     "data": {
      "text/plain": [
       "movie_id    0\n",
       "title       0\n",
       "cast        0\n",
       "crew        0\n",
       "dtype: int64"
      ]
     },
     "execution_count": 5,
     "metadata": {},
     "output_type": "execute_result"
    }
   ],
   "source": [
    "credits.isna().sum()"
   ]
  },
  {
   "cell_type": "code",
   "execution_count": 14,
   "id": "2d23e780",
   "metadata": {},
   "outputs": [
    {
     "name": "stdout",
     "output_type": "stream",
     "text": [
      "Running Forever\n",
      "Sharkskin\n",
      "Hum To Mohabbat Karega\n",
      "Me You and Five Bucks\n",
      "Down & Out With The Dolls\n",
      "Crowsnest\n",
      "Sex With Strangers\n",
      "The Helix... Loaded\n",
      "Harrison Montgomery\n",
      "Light from the Darkroom\n",
      "America Is Still the Place\n",
      "The Little Ponderosa Zoo\n",
      "Diamond Ruff\n",
      "Rise of the Entrepreneur: The Search for a Better Way\n",
      "I Want Your Money\n",
      "Fabled\n",
      "Death Calls\n",
      "Amidst the Devil's Wings\n",
      "UnDivided\n",
      "Short Cut to Nirvana: Kumbh Mela\n",
      "The Blood of My Brother: A Story of Death in Iraq\n",
      "21\n"
     ]
    }
   ],
   "source": [
    "count=0\n",
    "crew_list = []\n",
    "cast_list = []\n",
    "cast_crew_list = []\n",
    "for crew, title, cast in zip(credits['crew'], credits['title'],  credits['cast']):\n",
    "    if crew=='[]' and cast=='[]':\n",
    "        count+=1\n",
    "        print(title)\n",
    "print(count)"
   ]
  },
  {
   "cell_type": "code",
   "execution_count": null,
   "id": "06f9cd5e",
   "metadata": {},
   "outputs": [],
   "source": [
    "movies = movies.merge(credits, on='title')"
   ]
  },
  {
   "cell_type": "code",
   "execution_count": null,
   "id": "5f06d9c1",
   "metadata": {},
   "outputs": [],
   "source": [
    "movies = movies[['movie_id', 'title', 'overview', 'genres', 'keywords', 'release_date', 'cast', 'crew']]"
   ]
  },
  {
   "cell_type": "code",
   "execution_count": 8,
   "id": "c5f01bbc",
   "metadata": {},
   "outputs": [
    {
     "data": {
      "text/html": [
       "<div>\n",
       "<style scoped>\n",
       "    .dataframe tbody tr th:only-of-type {\n",
       "        vertical-align: middle;\n",
       "    }\n",
       "\n",
       "    .dataframe tbody tr th {\n",
       "        vertical-align: top;\n",
       "    }\n",
       "\n",
       "    .dataframe thead th {\n",
       "        text-align: right;\n",
       "    }\n",
       "</style>\n",
       "<table border=\"1\" class=\"dataframe\">\n",
       "  <thead>\n",
       "    <tr style=\"text-align: right;\">\n",
       "      <th></th>\n",
       "      <th>movie_id</th>\n",
       "      <th>title</th>\n",
       "      <th>cast</th>\n",
       "      <th>crew</th>\n",
       "    </tr>\n",
       "  </thead>\n",
       "  <tbody>\n",
       "    <tr>\n",
       "      <th>3670</th>\n",
       "      <td>447027</td>\n",
       "      <td>Running Forever</td>\n",
       "      <td>[]</td>\n",
       "      <td>[]</td>\n",
       "    </tr>\n",
       "  </tbody>\n",
       "</table>\n",
       "</div>"
      ],
      "text/plain": [
       "      movie_id            title cast crew\n",
       "3670    447027  Running Forever   []   []"
      ]
     },
     "execution_count": 8,
     "metadata": {},
     "output_type": "execute_result"
    }
   ],
   "source": [
    "credits.loc[credits['title']=='Running Forever']"
   ]
  },
  {
   "cell_type": "code",
   "execution_count": null,
   "id": "ff14a767",
   "metadata": {},
   "outputs": [],
   "source": [
    "movies.loc[movies['title']=='Warriors of Virtue']"
   ]
  },
  {
   "cell_type": "code",
   "execution_count": null,
   "id": "b3b171cd",
   "metadata": {},
   "outputs": [],
   "source": [
    "movies.shape"
   ]
  },
  {
   "cell_type": "code",
   "execution_count": null,
   "id": "4febf1fa",
   "metadata": {},
   "outputs": [],
   "source": [
    "count=0\n",
    "for cast, title in zip(movies['cast'], movies['title']):\n",
    "    if cast=='[]' or cast==None:\n",
    "        print(title)\n",
    "#         print(cast)\n",
    "        count+=1\n",
    "print(count)"
   ]
  },
  {
   "cell_type": "code",
   "execution_count": null,
   "id": "6fd71110",
   "metadata": {},
   "outputs": [],
   "source": [
    "movies.isna().sum()"
   ]
  },
  {
   "cell_type": "code",
   "execution_count": null,
   "id": "9547a90b",
   "metadata": {},
   "outputs": [],
   "source": [
    "movies.duplicated().sum()"
   ]
  },
  {
   "cell_type": "code",
   "execution_count": null,
   "id": "105af944",
   "metadata": {},
   "outputs": [],
   "source": [
    "movies.dropna(inplace=True)"
   ]
  },
  {
   "cell_type": "code",
   "execution_count": null,
   "id": "28465acf",
   "metadata": {},
   "outputs": [],
   "source": [
    "movies.isna().sum()"
   ]
  },
  {
   "cell_type": "code",
   "execution_count": null,
   "id": "f345e024",
   "metadata": {},
   "outputs": [],
   "source": [
    "movies['genres'][0]"
   ]
  },
  {
   "cell_type": "code",
   "execution_count": null,
   "id": "c6094b1f",
   "metadata": {},
   "outputs": [],
   "source": [
    "movies['keywords'][0]"
   ]
  },
  {
   "cell_type": "code",
   "execution_count": null,
   "id": "9fc5df3b",
   "metadata": {},
   "outputs": [],
   "source": [
    "import ast\n",
    "ast.literal_eval(movies['genres'][0])"
   ]
  },
  {
   "cell_type": "code",
   "execution_count": null,
   "id": "fadfeb15",
   "metadata": {},
   "outputs": [],
   "source": [
    "def extract_genres(genres_col):\n",
    "    genres = []\n",
    "    for genre in ast.literal_eval(genres_col):\n",
    "        genres.append(genre['name'])\n",
    "    return genres\n",
    "\n",
    "extract_genres(movies['genres'][0])"
   ]
  },
  {
   "cell_type": "code",
   "execution_count": null,
   "id": "a93f05ba",
   "metadata": {},
   "outputs": [],
   "source": [
    "movies['genres'] = movies['genres'].apply(extract_genres)"
   ]
  },
  {
   "cell_type": "code",
   "execution_count": null,
   "id": "83c06e88",
   "metadata": {},
   "outputs": [],
   "source": [
    "movies.head()"
   ]
  },
  {
   "cell_type": "code",
   "execution_count": null,
   "id": "2b3dc3da",
   "metadata": {},
   "outputs": [],
   "source": [
    "movies['keywords'] = movies['keywords'].apply(extract_genres)"
   ]
  },
  {
   "cell_type": "code",
   "execution_count": null,
   "id": "4bd0dd22",
   "metadata": {},
   "outputs": [],
   "source": [
    "movies.head()"
   ]
  },
  {
   "cell_type": "code",
   "execution_count": null,
   "id": "3bc4b5a6",
   "metadata": {},
   "outputs": [],
   "source": [
    "ast.literal_eval(movies['cast'][0])[0]"
   ]
  },
  {
   "cell_type": "code",
   "execution_count": null,
   "id": "b545f33f",
   "metadata": {},
   "outputs": [],
   "source": [
    "def extract_cast(cast_col):\n",
    "    count = 0\n",
    "    cast = []\n",
    "    for member in ast.literal_eval(cast_col):\n",
    "        cast.append(member['name'])\n",
    "        count+=1\n",
    "        if count==5:\n",
    "            return cast"
   ]
  },
  {
   "cell_type": "code",
   "execution_count": null,
   "id": "6d1402d4",
   "metadata": {},
   "outputs": [],
   "source": [
    "extract_cast(movies['cast'][1])"
   ]
  },
  {
   "cell_type": "code",
   "execution_count": null,
   "id": "fffc3113",
   "metadata": {},
   "outputs": [],
   "source": [
    "movies['cast'] = movies['cast'].apply(extract_cast)"
   ]
  },
  {
   "cell_type": "code",
   "execution_count": null,
   "id": "add47225",
   "metadata": {
    "scrolled": true
   },
   "outputs": [],
   "source": [
    "movies.head()"
   ]
  },
  {
   "cell_type": "code",
   "execution_count": null,
   "id": "5e9ffdd8",
   "metadata": {},
   "outputs": [],
   "source": [
    "movies.isna().sum()"
   ]
  },
  {
   "cell_type": "code",
   "execution_count": null,
   "id": "1f004b09",
   "metadata": {},
   "outputs": [],
   "source": [
    "movies[movies['cast'].isna()]"
   ]
  },
  {
   "cell_type": "code",
   "execution_count": null,
   "id": "9100329f",
   "metadata": {},
   "outputs": [],
   "source": [
    "credits.loc[credits['movie_id']==67238]"
   ]
  },
  {
   "cell_type": "code",
   "execution_count": null,
   "id": "85c55dc6",
   "metadata": {},
   "outputs": [],
   "source": [
    "ast.literal_eval(movies['crew'][0])"
   ]
  },
  {
   "cell_type": "code",
   "execution_count": null,
   "id": "0a6f8405",
   "metadata": {},
   "outputs": [],
   "source": [
    "def extract_director(crew_col):\n",
    "    director = []\n",
    "    for crew in ast.literal_eval(crew_col):\n",
    "        if crew['job'] == 'Director':\n",
    "            director.append(crew['name'])\n",
    "            break\n",
    "    return director"
   ]
  },
  {
   "cell_type": "code",
   "execution_count": null,
   "id": "7de47727",
   "metadata": {},
   "outputs": [],
   "source": [
    "extract_director(movies['crew'][0])"
   ]
  },
  {
   "cell_type": "code",
   "execution_count": null,
   "id": "a8be856c",
   "metadata": {},
   "outputs": [],
   "source": [
    "movies['crew'] = movies['crew'].apply(extract_director)"
   ]
  },
  {
   "cell_type": "code",
   "execution_count": null,
   "id": "7b94d980",
   "metadata": {},
   "outputs": [],
   "source": [
    "movies.head()"
   ]
  },
  {
   "cell_type": "code",
   "execution_count": null,
   "id": "5d1eb659",
   "metadata": {},
   "outputs": [],
   "source": [
    "int(movies['release_date'][0][:4])"
   ]
  },
  {
   "cell_type": "code",
   "execution_count": null,
   "id": "65bfdcc0",
   "metadata": {},
   "outputs": [],
   "source": [
    "for date in movies['release_date']:\n",
    "    if int(date[:4])>2000:\n",
    "        print(\"new\")\n",
    "    else:\n",
    "        print(\"old\")"
   ]
  },
  {
   "cell_type": "code",
   "execution_count": null,
   "id": "21496146",
   "metadata": {},
   "outputs": [],
   "source": [
    "import re\n",
    "period = []\n",
    "def extract_year(date):\n",
    "    for i in date:\n",
    "        d = re.findall('(\\d{4})-\\d{2}-\\d{2}',i)\n",
    "        if int(d[0])>2000:\n",
    "            period.append('new')\n",
    "        else:\n",
    "            period.append('old')\n",
    "    return period\n",
    "\n",
    "movies['release_date'].apply(extract_year)"
   ]
  },
  {
   "cell_type": "code",
   "execution_count": null,
   "id": "f7075716",
   "metadata": {},
   "outputs": [],
   "source": [
    "movies['release_date'][0]"
   ]
  },
  {
   "cell_type": "code",
   "execution_count": null,
   "id": "641b6b33",
   "metadata": {},
   "outputs": [],
   "source": [
    "movies['release_date'].isna().sum()"
   ]
  },
  {
   "cell_type": "code",
   "execution_count": null,
   "id": "ec7e1cd0",
   "metadata": {},
   "outputs": [],
   "source": [
    "movies.isna().sum()"
   ]
  },
  {
   "cell_type": "code",
   "execution_count": null,
   "id": "a6ed62a0",
   "metadata": {},
   "outputs": [],
   "source": []
  }
 ],
 "metadata": {
  "kernelspec": {
   "display_name": "Python 3 (ipykernel)",
   "language": "python",
   "name": "python3"
  },
  "language_info": {
   "codemirror_mode": {
    "name": "ipython",
    "version": 3
   },
   "file_extension": ".py",
   "mimetype": "text/x-python",
   "name": "python",
   "nbconvert_exporter": "python",
   "pygments_lexer": "ipython3",
   "version": "3.9.8"
  }
 },
 "nbformat": 4,
 "nbformat_minor": 5
}
